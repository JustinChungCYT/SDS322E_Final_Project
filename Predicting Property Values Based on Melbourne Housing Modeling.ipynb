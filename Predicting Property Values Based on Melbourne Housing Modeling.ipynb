{
 "cells": [
  {
   "cell_type": "code",
   "execution_count": 1,
   "metadata": {},
   "outputs": [],
   "source": [
    "import numpy as np\n",
    "import matplotlib.pylab as plt\n",
    "import pandas as pd\n",
    "\n",
    "from sklearn.model_selection import train_test_split\n",
    "from sklearn import metrics\n",
    "import sklearn"
   ]
  },
  {
   "cell_type": "code",
   "execution_count": 6,
   "metadata": {},
   "outputs": [
    {
     "data": {
      "text/html": [
       "<div>\n",
       "<style scoped>\n",
       "    .dataframe tbody tr th:only-of-type {\n",
       "        vertical-align: middle;\n",
       "    }\n",
       "\n",
       "    .dataframe tbody tr th {\n",
       "        vertical-align: top;\n",
       "    }\n",
       "\n",
       "    .dataframe thead th {\n",
       "        text-align: right;\n",
       "    }\n",
       "</style>\n",
       "<table border=\"1\" class=\"dataframe\">\n",
       "  <thead>\n",
       "    <tr style=\"text-align: right;\">\n",
       "      <th></th>\n",
       "      <th>Rooms</th>\n",
       "      <th>Price</th>\n",
       "      <th>Distance</th>\n",
       "      <th>Postcode</th>\n",
       "      <th>Bedroom2</th>\n",
       "      <th>Bathroom</th>\n",
       "      <th>Car</th>\n",
       "      <th>Landsize</th>\n",
       "      <th>BuildingArea</th>\n",
       "      <th>YearBuilt</th>\n",
       "      <th>Lattitude</th>\n",
       "      <th>Longtitude</th>\n",
       "      <th>Propertycount</th>\n",
       "    </tr>\n",
       "  </thead>\n",
       "  <tbody>\n",
       "    <tr>\n",
       "      <th>0</th>\n",
       "      <td>2</td>\n",
       "      <td>1035000</td>\n",
       "      <td>2.5</td>\n",
       "      <td>3067</td>\n",
       "      <td>2</td>\n",
       "      <td>1</td>\n",
       "      <td>0</td>\n",
       "      <td>156</td>\n",
       "      <td>79.0</td>\n",
       "      <td>1900</td>\n",
       "      <td>-37.8079</td>\n",
       "      <td>144.9934</td>\n",
       "      <td>4019</td>\n",
       "    </tr>\n",
       "    <tr>\n",
       "      <th>1</th>\n",
       "      <td>3</td>\n",
       "      <td>1465000</td>\n",
       "      <td>2.5</td>\n",
       "      <td>3067</td>\n",
       "      <td>3</td>\n",
       "      <td>2</td>\n",
       "      <td>0</td>\n",
       "      <td>134</td>\n",
       "      <td>150.0</td>\n",
       "      <td>1900</td>\n",
       "      <td>-37.8093</td>\n",
       "      <td>144.9944</td>\n",
       "      <td>4019</td>\n",
       "    </tr>\n",
       "    <tr>\n",
       "      <th>2</th>\n",
       "      <td>4</td>\n",
       "      <td>1600000</td>\n",
       "      <td>2.5</td>\n",
       "      <td>3067</td>\n",
       "      <td>3</td>\n",
       "      <td>1</td>\n",
       "      <td>2</td>\n",
       "      <td>120</td>\n",
       "      <td>142.0</td>\n",
       "      <td>2014</td>\n",
       "      <td>-37.8072</td>\n",
       "      <td>144.9941</td>\n",
       "      <td>4019</td>\n",
       "    </tr>\n",
       "    <tr>\n",
       "      <th>3</th>\n",
       "      <td>3</td>\n",
       "      <td>1876000</td>\n",
       "      <td>2.5</td>\n",
       "      <td>3067</td>\n",
       "      <td>4</td>\n",
       "      <td>2</td>\n",
       "      <td>0</td>\n",
       "      <td>245</td>\n",
       "      <td>210.0</td>\n",
       "      <td>1910</td>\n",
       "      <td>-37.8024</td>\n",
       "      <td>144.9993</td>\n",
       "      <td>4019</td>\n",
       "    </tr>\n",
       "    <tr>\n",
       "      <th>4</th>\n",
       "      <td>2</td>\n",
       "      <td>1636000</td>\n",
       "      <td>2.5</td>\n",
       "      <td>3067</td>\n",
       "      <td>2</td>\n",
       "      <td>1</td>\n",
       "      <td>2</td>\n",
       "      <td>256</td>\n",
       "      <td>107.0</td>\n",
       "      <td>1890</td>\n",
       "      <td>-37.8060</td>\n",
       "      <td>144.9954</td>\n",
       "      <td>4019</td>\n",
       "    </tr>\n",
       "  </tbody>\n",
       "</table>\n",
       "</div>"
      ],
      "text/plain": [
       "   Rooms    Price  Distance  Postcode  Bedroom2  Bathroom  Car  Landsize  \\\n",
       "0      2  1035000       2.5      3067         2         1    0       156   \n",
       "1      3  1465000       2.5      3067         3         2    0       134   \n",
       "2      4  1600000       2.5      3067         3         1    2       120   \n",
       "3      3  1876000       2.5      3067         4         2    0       245   \n",
       "4      2  1636000       2.5      3067         2         1    2       256   \n",
       "\n",
       "   BuildingArea  YearBuilt  Lattitude  Longtitude  Propertycount  \n",
       "0          79.0       1900   -37.8079    144.9934           4019  \n",
       "1         150.0       1900   -37.8093    144.9944           4019  \n",
       "2         142.0       2014   -37.8072    144.9941           4019  \n",
       "3         210.0       1910   -37.8024    144.9993           4019  \n",
       "4         107.0       1890   -37.8060    144.9954           4019  "
      ]
     },
     "execution_count": 6,
     "metadata": {},
     "output_type": "execute_result"
    }
   ],
   "source": [
    "df = pd.read_csv('Cleaned.csv')\n",
    "df = df.drop(columns = [\"Unnamed: 0\"])\n",
    "df.head()"
   ]
  },
  {
   "cell_type": "code",
   "execution_count": 8,
   "metadata": {},
   "outputs": [
    {
     "data": {
      "text/html": [
       "<div>\n",
       "<style scoped>\n",
       "    .dataframe tbody tr th:only-of-type {\n",
       "        vertical-align: middle;\n",
       "    }\n",
       "\n",
       "    .dataframe tbody tr th {\n",
       "        vertical-align: top;\n",
       "    }\n",
       "\n",
       "    .dataframe thead th {\n",
       "        text-align: right;\n",
       "    }\n",
       "</style>\n",
       "<table border=\"1\" class=\"dataframe\">\n",
       "  <thead>\n",
       "    <tr style=\"text-align: right;\">\n",
       "      <th></th>\n",
       "      <th>Price</th>\n",
       "    </tr>\n",
       "  </thead>\n",
       "  <tbody>\n",
       "    <tr>\n",
       "      <th>count</th>\n",
       "      <td>6.830000e+03</td>\n",
       "    </tr>\n",
       "    <tr>\n",
       "      <th>mean</th>\n",
       "      <td>1.077604e+06</td>\n",
       "    </tr>\n",
       "    <tr>\n",
       "      <th>std</th>\n",
       "      <td>6.733202e+05</td>\n",
       "    </tr>\n",
       "    <tr>\n",
       "      <th>min</th>\n",
       "      <td>1.310000e+05</td>\n",
       "    </tr>\n",
       "    <tr>\n",
       "      <th>25%</th>\n",
       "      <td>6.300000e+05</td>\n",
       "    </tr>\n",
       "    <tr>\n",
       "      <th>50%</th>\n",
       "      <td>8.900000e+05</td>\n",
       "    </tr>\n",
       "    <tr>\n",
       "      <th>75%</th>\n",
       "      <td>1.334000e+06</td>\n",
       "    </tr>\n",
       "    <tr>\n",
       "      <th>max</th>\n",
       "      <td>9.000000e+06</td>\n",
       "    </tr>\n",
       "  </tbody>\n",
       "</table>\n",
       "</div>"
      ],
      "text/plain": [
       "              Price\n",
       "count  6.830000e+03\n",
       "mean   1.077604e+06\n",
       "std    6.733202e+05\n",
       "min    1.310000e+05\n",
       "25%    6.300000e+05\n",
       "50%    8.900000e+05\n",
       "75%    1.334000e+06\n",
       "max    9.000000e+06"
      ]
     },
     "execution_count": 8,
     "metadata": {},
     "output_type": "execute_result"
    }
   ],
   "source": [
    "Price = df.loc[:,['Price']]\n",
    "Price.describe()"
   ]
  },
  {
   "cell_type": "code",
   "execution_count": 10,
   "metadata": {},
   "outputs": [
    {
     "name": "stdout",
     "output_type": "stream",
     "text": [
      "        Price  Distance  BuildingArea  YearBuilt  Landsize\n",
      "0     1035000       2.5          79.0       1900       156\n",
      "1     1465000       2.5         150.0       1900       134\n",
      "2     1600000       2.5         142.0       2014       120\n",
      "3     1876000       2.5         210.0       1910       245\n",
      "4     1636000       2.5         107.0       1890       256\n",
      "...       ...       ...           ...        ...       ...\n",
      "6825   650000      14.5          79.0       2006       210\n",
      "6826   635000      14.7         172.0       1980       662\n",
      "6827  1031000       6.8         133.0       1995       333\n",
      "6828  2500000       6.8         157.0       1920       866\n",
      "6829  1285000       6.3         112.0       1920       362\n",
      "\n",
      "[6741 rows x 5 columns]\n"
     ]
    }
   ],
   "source": [
    "from scipy import stats\n",
    "\n",
    "df = df.loc[:,['Price', 'Distance','BuildingArea','YearBuilt','Landsize']]\n",
    "\n",
    "z_scores = stats.zscore(df)\n",
    "abs_z_scores = np.abs(z_scores)\n",
    "filtered_entries = (abs_z_scores < 5).all(axis = 1)\n",
    "\n",
    "df = df[filtered_entries]\n",
    "print(df)"
   ]
  },
  {
   "cell_type": "code",
   "execution_count": 13,
   "metadata": {},
   "outputs": [
    {
     "data": {
      "text/html": [
       "<div>\n",
       "<style scoped>\n",
       "    .dataframe tbody tr th:only-of-type {\n",
       "        vertical-align: middle;\n",
       "    }\n",
       "\n",
       "    .dataframe tbody tr th {\n",
       "        vertical-align: top;\n",
       "    }\n",
       "\n",
       "    .dataframe thead th {\n",
       "        text-align: right;\n",
       "    }\n",
       "</style>\n",
       "<table border=\"1\" class=\"dataframe\">\n",
       "  <thead>\n",
       "    <tr style=\"text-align: right;\">\n",
       "      <th></th>\n",
       "      <th>Distance</th>\n",
       "      <th>BuildingArea</th>\n",
       "      <th>YearBuilt</th>\n",
       "      <th>Landsize</th>\n",
       "    </tr>\n",
       "  </thead>\n",
       "  <tbody>\n",
       "    <tr>\n",
       "      <th>count</th>\n",
       "      <td>6741.000000</td>\n",
       "      <td>6741.000000</td>\n",
       "      <td>6741.000000</td>\n",
       "      <td>6741.000000</td>\n",
       "    </tr>\n",
       "    <tr>\n",
       "      <th>mean</th>\n",
       "      <td>10.116986</td>\n",
       "      <td>140.408919</td>\n",
       "      <td>1964.510458</td>\n",
       "      <td>439.368195</td>\n",
       "    </tr>\n",
       "    <tr>\n",
       "      <th>std</th>\n",
       "      <td>5.816208</td>\n",
       "      <td>72.208015</td>\n",
       "      <td>36.472718</td>\n",
       "      <td>415.593656</td>\n",
       "    </tr>\n",
       "    <tr>\n",
       "      <th>min</th>\n",
       "      <td>0.000000</td>\n",
       "      <td>0.000000</td>\n",
       "      <td>1830.000000</td>\n",
       "      <td>0.000000</td>\n",
       "    </tr>\n",
       "    <tr>\n",
       "      <th>25%</th>\n",
       "      <td>6.200000</td>\n",
       "      <td>93.000000</td>\n",
       "      <td>1940.000000</td>\n",
       "      <td>164.000000</td>\n",
       "    </tr>\n",
       "    <tr>\n",
       "      <th>50%</th>\n",
       "      <td>9.200000</td>\n",
       "      <td>126.000000</td>\n",
       "      <td>1970.000000</td>\n",
       "      <td>400.000000</td>\n",
       "    </tr>\n",
       "    <tr>\n",
       "      <th>75%</th>\n",
       "      <td>13.000000</td>\n",
       "      <td>171.000000</td>\n",
       "      <td>2000.000000</td>\n",
       "      <td>634.000000</td>\n",
       "    </tr>\n",
       "    <tr>\n",
       "      <th>max</th>\n",
       "      <td>39.800000</td>\n",
       "      <td>575.000000</td>\n",
       "      <td>2018.000000</td>\n",
       "      <td>5022.000000</td>\n",
       "    </tr>\n",
       "  </tbody>\n",
       "</table>\n",
       "</div>"
      ],
      "text/plain": [
       "          Distance  BuildingArea    YearBuilt     Landsize\n",
       "count  6741.000000   6741.000000  6741.000000  6741.000000\n",
       "mean     10.116986    140.408919  1964.510458   439.368195\n",
       "std       5.816208     72.208015    36.472718   415.593656\n",
       "min       0.000000      0.000000  1830.000000     0.000000\n",
       "25%       6.200000     93.000000  1940.000000   164.000000\n",
       "50%       9.200000    126.000000  1970.000000   400.000000\n",
       "75%      13.000000    171.000000  2000.000000   634.000000\n",
       "max      39.800000    575.000000  2018.000000  5022.000000"
      ]
     },
     "execution_count": 13,
     "metadata": {},
     "output_type": "execute_result"
    }
   ],
   "source": [
    "y = df.loc[:,['Price']]\n",
    "X = df.loc[:,['Distance','BuildingArea','YearBuilt','Landsize']]\n",
    "\n",
    "X.describe()"
   ]
  },
  {
   "cell_type": "code",
   "execution_count": 15,
   "metadata": {},
   "outputs": [],
   "source": [
    "from sklearn.model_selection import train_test_split\n",
    "\n",
    "X_train, X_test, y_train, y_test = train_test_split(X,y)"
   ]
  },
  {
   "cell_type": "code",
   "execution_count": 20,
   "metadata": {},
   "outputs": [
    {
     "name": "stderr",
     "output_type": "stream",
     "text": [
      "/opt/jupyterhub/pyvenv/lib/python3.6/site-packages/ipykernel_launcher.py:5: DataConversionWarning: A column-vector y was passed when a 1d array was expected. Please change the shape of y to (n_samples,), for example using ravel().\n",
      "  \"\"\"\n"
     ]
    },
    {
     "name": "stdout",
     "output_type": "stream",
     "text": [
      "MAE (Random Forest - All Four Variables):\n",
      "229887.53679093943\n"
     ]
    }
   ],
   "source": [
    "from sklearn.ensemble import RandomForestRegressor\n",
    "from sklearn.metrics import mean_absolute_error\n",
    "\n",
    "RFR = RandomForestRegressor()\n",
    "RFR.fit(X_train, y_train)\n",
    "y_pred = RFR.predict(X_test)\n",
    "MAE = mean_absolute_error(y_test, y_pred)\n",
    "\n",
    "print('MAE (Random Forest - All Four Variables):')\n",
    "print(MAE)"
   ]
  },
  {
   "cell_type": "code",
   "execution_count": 22,
   "metadata": {},
   "outputs": [
    {
     "name": "stdout",
     "output_type": "stream",
     "text": [
      "MAE (Linear Regression - All Four Variables):\n",
      "289391.62029285356\n"
     ]
    }
   ],
   "source": [
    "from sklearn.linear_model import LinearRegression\n",
    "\n",
    "REG = LinearRegression()\n",
    "REG.fit(X_train, y_train)\n",
    "y_REG_pred = REG.predict(X_test)\n",
    "\n",
    "MAE_REG = mean_absolute_error(y_test, y_REG_pred)\n",
    "\n",
    "print('MAE (Linear Regression - All Four Variables):')\n",
    "print(MAE_REG)"
   ]
  },
  {
   "cell_type": "code",
   "execution_count": 25,
   "metadata": {},
   "outputs": [
    {
     "data": {
      "text/html": [
       "<div>\n",
       "<style scoped>\n",
       "    .dataframe tbody tr th:only-of-type {\n",
       "        vertical-align: middle;\n",
       "    }\n",
       "\n",
       "    .dataframe tbody tr th {\n",
       "        vertical-align: top;\n",
       "    }\n",
       "\n",
       "    .dataframe thead th {\n",
       "        text-align: right;\n",
       "    }\n",
       "</style>\n",
       "<table border=\"1\" class=\"dataframe\">\n",
       "  <thead>\n",
       "    <tr style=\"text-align: right;\">\n",
       "      <th></th>\n",
       "      <th>BuildingArea</th>\n",
       "      <th>YearBuilt</th>\n",
       "    </tr>\n",
       "  </thead>\n",
       "  <tbody>\n",
       "    <tr>\n",
       "      <th>count</th>\n",
       "      <td>6741.000000</td>\n",
       "      <td>6741.000000</td>\n",
       "    </tr>\n",
       "    <tr>\n",
       "      <th>mean</th>\n",
       "      <td>140.408919</td>\n",
       "      <td>1964.510458</td>\n",
       "    </tr>\n",
       "    <tr>\n",
       "      <th>std</th>\n",
       "      <td>72.208015</td>\n",
       "      <td>36.472718</td>\n",
       "    </tr>\n",
       "    <tr>\n",
       "      <th>min</th>\n",
       "      <td>0.000000</td>\n",
       "      <td>1830.000000</td>\n",
       "    </tr>\n",
       "    <tr>\n",
       "      <th>25%</th>\n",
       "      <td>93.000000</td>\n",
       "      <td>1940.000000</td>\n",
       "    </tr>\n",
       "    <tr>\n",
       "      <th>50%</th>\n",
       "      <td>126.000000</td>\n",
       "      <td>1970.000000</td>\n",
       "    </tr>\n",
       "    <tr>\n",
       "      <th>75%</th>\n",
       "      <td>171.000000</td>\n",
       "      <td>2000.000000</td>\n",
       "    </tr>\n",
       "    <tr>\n",
       "      <th>max</th>\n",
       "      <td>575.000000</td>\n",
       "      <td>2018.000000</td>\n",
       "    </tr>\n",
       "  </tbody>\n",
       "</table>\n",
       "</div>"
      ],
      "text/plain": [
       "       BuildingArea    YearBuilt\n",
       "count   6741.000000  6741.000000\n",
       "mean     140.408919  1964.510458\n",
       "std       72.208015    36.472718\n",
       "min        0.000000  1830.000000\n",
       "25%       93.000000  1940.000000\n",
       "50%      126.000000  1970.000000\n",
       "75%      171.000000  2000.000000\n",
       "max      575.000000  2018.000000"
      ]
     },
     "execution_count": 25,
     "metadata": {},
     "output_type": "execute_result"
    }
   ],
   "source": [
    "XX = df.loc[:,['BuildingArea','YearBuilt']]\n",
    "\n",
    "XX.describe()"
   ]
  },
  {
   "cell_type": "code",
   "execution_count": 34,
   "metadata": {
    "scrolled": true
   },
   "outputs": [
    {
     "name": "stderr",
     "output_type": "stream",
     "text": [
      "/opt/jupyterhub/pyvenv/lib/python3.6/site-packages/ipykernel_launcher.py:4: DataConversionWarning: A column-vector y was passed when a 1d array was expected. Please change the shape of y to (n_samples,), for example using ravel().\n",
      "  after removing the cwd from sys.path.\n"
     ]
    },
    {
     "name": "stdout",
     "output_type": "stream",
     "text": [
      "MAE (Random Forest - Two Variables):\n",
      "315969.46381397225\n"
     ]
    }
   ],
   "source": [
    "XX_train, XX_test, y_train, y_test = train_test_split(XX,y)\n",
    "\n",
    "RFR_twovar = RandomForestRegressor()\n",
    "RFR_twovar.fit(XX_train, y_train)\n",
    "y_twovar_pred = RFR_twovar.predict(XX_test)\n",
    "MAE_twovar_For = mean_absolute_error(y_test, y_twovar_pred)\n",
    "\n",
    "print('MAE (Random Forest - Two Variables):')\n",
    "print(MAE_twovar_For)"
   ]
  },
  {
   "cell_type": "code",
   "execution_count": 35,
   "metadata": {},
   "outputs": [
    {
     "name": "stdout",
     "output_type": "stream",
     "text": [
      "MAE (Linear Regression - Two Variables):\n",
      "309156.1947644135\n"
     ]
    }
   ],
   "source": [
    "REG_twovar = LinearRegression()\n",
    "REG_twovar.fit(XX_train, y_train)\n",
    "y_REG_twovar_pred = REG_twovar.predict(XX_test)\n",
    "\n",
    "MAE_REG_twovar = mean_absolute_error(y_test, y_REG_twovar_pred)\n",
    "\n",
    "print('MAE (Linear Regression - Two Variables):')\n",
    "print(MAE_REG_twovar)"
   ]
  }
 ],
 "metadata": {
  "kernelspec": {
   "display_name": "Python 3",
   "language": "python",
   "name": "python3"
  },
  "language_info": {
   "codemirror_mode": {
    "name": "ipython",
    "version": 3
   },
   "file_extension": ".py",
   "mimetype": "text/x-python",
   "name": "python",
   "nbconvert_exporter": "python",
   "pygments_lexer": "ipython3",
   "version": "3.6.9"
  }
 },
 "nbformat": 4,
 "nbformat_minor": 4
}
