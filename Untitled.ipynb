{
 "cells": [
  {
   "cell_type": "code",
   "execution_count": 13,
   "metadata": {},
   "outputs": [],
   "source": [
    "import numpy as np\n",
    "import matplotlib.pylab as plt\n",
    "import pandas as pd\n",
    "\n",
    "from sklearn.model_selection import train_test_split\n",
    "from sklearn import metrics\n",
    "import sklearn"
   ]
  },
  {
   "cell_type": "code",
   "execution_count": 45,
   "metadata": {},
   "outputs": [
    {
     "data": {
      "text/html": [
       "<div>\n",
       "<style scoped>\n",
       "    .dataframe tbody tr th:only-of-type {\n",
       "        vertical-align: middle;\n",
       "    }\n",
       "\n",
       "    .dataframe tbody tr th {\n",
       "        vertical-align: top;\n",
       "    }\n",
       "\n",
       "    .dataframe thead th {\n",
       "        text-align: right;\n",
       "    }\n",
       "</style>\n",
       "<table border=\"1\" class=\"dataframe\">\n",
       "  <thead>\n",
       "    <tr style=\"text-align: right;\">\n",
       "      <th></th>\n",
       "      <th>Rooms</th>\n",
       "      <th>Price</th>\n",
       "      <th>Distance</th>\n",
       "      <th>Postcode</th>\n",
       "      <th>Bedroom2</th>\n",
       "      <th>Bathroom</th>\n",
       "      <th>Car</th>\n",
       "      <th>Landsize</th>\n",
       "      <th>BuildingArea</th>\n",
       "      <th>YearBuilt</th>\n",
       "      <th>Lattitude</th>\n",
       "      <th>Longtitude</th>\n",
       "      <th>Propertycount</th>\n",
       "    </tr>\n",
       "  </thead>\n",
       "  <tbody>\n",
       "    <tr>\n",
       "      <th>0</th>\n",
       "      <td>2</td>\n",
       "      <td>1035000</td>\n",
       "      <td>2.5</td>\n",
       "      <td>3067</td>\n",
       "      <td>2</td>\n",
       "      <td>1</td>\n",
       "      <td>0</td>\n",
       "      <td>156</td>\n",
       "      <td>79.0</td>\n",
       "      <td>1900</td>\n",
       "      <td>-37.8079</td>\n",
       "      <td>144.9934</td>\n",
       "      <td>4019</td>\n",
       "    </tr>\n",
       "    <tr>\n",
       "      <th>1</th>\n",
       "      <td>3</td>\n",
       "      <td>1465000</td>\n",
       "      <td>2.5</td>\n",
       "      <td>3067</td>\n",
       "      <td>3</td>\n",
       "      <td>2</td>\n",
       "      <td>0</td>\n",
       "      <td>134</td>\n",
       "      <td>150.0</td>\n",
       "      <td>1900</td>\n",
       "      <td>-37.8093</td>\n",
       "      <td>144.9944</td>\n",
       "      <td>4019</td>\n",
       "    </tr>\n",
       "    <tr>\n",
       "      <th>2</th>\n",
       "      <td>4</td>\n",
       "      <td>1600000</td>\n",
       "      <td>2.5</td>\n",
       "      <td>3067</td>\n",
       "      <td>3</td>\n",
       "      <td>1</td>\n",
       "      <td>2</td>\n",
       "      <td>120</td>\n",
       "      <td>142.0</td>\n",
       "      <td>2014</td>\n",
       "      <td>-37.8072</td>\n",
       "      <td>144.9941</td>\n",
       "      <td>4019</td>\n",
       "    </tr>\n",
       "    <tr>\n",
       "      <th>3</th>\n",
       "      <td>3</td>\n",
       "      <td>1876000</td>\n",
       "      <td>2.5</td>\n",
       "      <td>3067</td>\n",
       "      <td>4</td>\n",
       "      <td>2</td>\n",
       "      <td>0</td>\n",
       "      <td>245</td>\n",
       "      <td>210.0</td>\n",
       "      <td>1910</td>\n",
       "      <td>-37.8024</td>\n",
       "      <td>144.9993</td>\n",
       "      <td>4019</td>\n",
       "    </tr>\n",
       "    <tr>\n",
       "      <th>4</th>\n",
       "      <td>2</td>\n",
       "      <td>1636000</td>\n",
       "      <td>2.5</td>\n",
       "      <td>3067</td>\n",
       "      <td>2</td>\n",
       "      <td>1</td>\n",
       "      <td>2</td>\n",
       "      <td>256</td>\n",
       "      <td>107.0</td>\n",
       "      <td>1890</td>\n",
       "      <td>-37.8060</td>\n",
       "      <td>144.9954</td>\n",
       "      <td>4019</td>\n",
       "    </tr>\n",
       "  </tbody>\n",
       "</table>\n",
       "</div>"
      ],
      "text/plain": [
       "   Rooms    Price  Distance  Postcode  Bedroom2  Bathroom  Car  Landsize  \\\n",
       "0      2  1035000       2.5      3067         2         1    0       156   \n",
       "1      3  1465000       2.5      3067         3         2    0       134   \n",
       "2      4  1600000       2.5      3067         3         1    2       120   \n",
       "3      3  1876000       2.5      3067         4         2    0       245   \n",
       "4      2  1636000       2.5      3067         2         1    2       256   \n",
       "\n",
       "   BuildingArea  YearBuilt  Lattitude  Longtitude  Propertycount  \n",
       "0          79.0       1900   -37.8079    144.9934           4019  \n",
       "1         150.0       1900   -37.8093    144.9944           4019  \n",
       "2         142.0       2014   -37.8072    144.9941           4019  \n",
       "3         210.0       1910   -37.8024    144.9993           4019  \n",
       "4         107.0       1890   -37.8060    144.9954           4019  "
      ]
     },
     "execution_count": 45,
     "metadata": {},
     "output_type": "execute_result"
    }
   ],
   "source": [
    "df = pd.read_csv('Cleaned.csv')\n",
    "df = df.drop(columns = [\"Unnamed: 0\"])\n",
    "df.head()"
   ]
  },
  {
   "cell_type": "code",
   "execution_count": 46,
   "metadata": {},
   "outputs": [],
   "source": [
    "X = df.drop(columns = [\"Price\"])\n",
    "y = df['Price']\n",
    "\n",
    "X_train, X_test, y_train, y_test = train_test_split(X, y)"
   ]
  },
  {
   "cell_type": "code",
   "execution_count": 47,
   "metadata": {},
   "outputs": [],
   "source": [
    "from random import Random\n",
    "from sklearn import tree\n",
    "\n",
    "tr = tree.DecisionTreeClassifier()\n",
    "tr = tr.fit(X_train, y_train)"
   ]
  },
  {
   "cell_type": "code",
   "execution_count": 48,
   "metadata": {},
   "outputs": [
    {
     "name": "stdout",
     "output_type": "stream",
     "text": [
      "0.009953161592505855\n"
     ]
    }
   ],
   "source": [
    "from sklearn.metrics import accuracy_score\n",
    "\n",
    "y_pred = tr.predict(X_test)\n",
    "a = accuracy_score(y_test, y_pred)\n",
    "\n",
    "print(a)"
   ]
  },
  {
   "cell_type": "code",
   "execution_count": 49,
   "metadata": {},
   "outputs": [
    {
     "name": "stdout",
     "output_type": "stream",
     "text": [
      "0.00702576112412178\n"
     ]
    }
   ],
   "source": [
    "### Without Landsize\n",
    "\n",
    "XX = df.drop(columns = [\"Price\", \"Landsize\"])\n",
    "yy = df['Price']\n",
    "\n",
    "XX_train, XX_test, yy_train, yy_test = train_test_split(XX, yy)\n",
    "\n",
    "tr1 = tree.DecisionTreeClassifier()\n",
    "tr1 = tr1.fit(XX_train, yy_train)\n",
    "\n",
    "yy_pred = tr1.predict(XX_test)\n",
    "aa = accuracy_score(yy_test, yy_pred)\n",
    "\n",
    "print(aa)"
   ]
  },
  {
   "cell_type": "code",
   "execution_count": 55,
   "metadata": {},
   "outputs": [
    {
     "name": "stdout",
     "output_type": "stream",
     "text": [
      "0.011124121779859485\n"
     ]
    }
   ],
   "source": [
    "### Without Distance\n",
    "\n",
    "XXX = df.drop(columns = [\"Price\", \"Distance\"])\n",
    "yyy = df['Price']\n",
    "\n",
    "XXX_train, XXX_test, yyy_train, yyy_test = train_test_split(XXX, yyy)\n",
    "\n",
    "tr2 = tree.DecisionTreeClassifier()\n",
    "tr2 = tr2.fit(XXX_train, yyy_train)\n",
    "\n",
    "yyy_pred = tr2.predict(XXX_test)\n",
    "aaa = accuracy_score(yyy_test, yyy_pred)\n",
    "\n",
    "print(aaa)"
   ]
  },
  {
   "cell_type": "code",
   "execution_count": 56,
   "metadata": {},
   "outputs": [
    {
     "name": "stdout",
     "output_type": "stream",
     "text": [
      "0.01053864168618267\n"
     ]
    }
   ],
   "source": [
    "### Without BuildingArea\n",
    "\n",
    "XXXX = df.drop(columns = [\"Price\", \"BuildingArea\"])\n",
    "yyyy = df['Price']\n",
    "\n",
    "XXXX_train, XXXX_test, yyyy_train, yyyy_test = train_test_split(XXXX, yyyy)\n",
    "\n",
    "tr3 = tree.DecisionTreeClassifier()\n",
    "tr3 = tr3.fit(XXXX_train, yyyy_train)\n",
    "\n",
    "yyyy_pred = tr3.predict(XXXX_test)\n",
    "aaaa = accuracy_score(yyyy_test, yyyy_pred)\n",
    "\n",
    "print(aaaa)"
   ]
  },
  {
   "cell_type": "code",
   "execution_count": null,
   "metadata": {},
   "outputs": [],
   "source": [
    "### Without YearBuilt\n",
    "\n",
    "XXXXX = df.drop(columns = [\"Price\", \"YearBuilt\"])\n",
    "yyyyy = df['Price']\n",
    "\n",
    "XXXXX_train, XXXXX_test, yyyyy_train, yyyyy_test = train_test_split(XXXXX, yyyyy)\n",
    "\n",
    "tr4 = tree.DecisionTreeClassifier()\n",
    "tr4 = tr4.fit(XXXXX_train, yyyyy_train)\n",
    "\n",
    "yyyyy_pred = tr4.predict(XXXXX_test)\n",
    "aaaaa = accuracy_score(yyyyy_test, yyyyy_pred)\n",
    "\n",
    "print(aaaaa)"
   ]
  }
 ],
 "metadata": {
  "kernelspec": {
   "display_name": "Python 3",
   "language": "python",
   "name": "python3"
  },
  "language_info": {
   "codemirror_mode": {
    "name": "ipython",
    "version": 3
   },
   "file_extension": ".py",
   "mimetype": "text/x-python",
   "name": "python",
   "nbconvert_exporter": "python",
   "pygments_lexer": "ipython3",
   "version": "3.6.9"
  }
 },
 "nbformat": 4,
 "nbformat_minor": 4
}
